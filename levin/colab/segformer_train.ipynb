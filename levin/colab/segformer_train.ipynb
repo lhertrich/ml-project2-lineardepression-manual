{
  "cells": [
    {
      "cell_type": "code",
      "execution_count": null,
      "metadata": {
        "colab": {
          "base_uri": "https://localhost:8080/"
        },
        "id": "r7M4_QahlI3c",
        "outputId": "75ad8300-340c-425e-ea0a-cfcf9b08f4dc"
      },
      "outputs": [
        {
          "name": "stdout",
          "output_type": "stream",
          "text": [
            "Mounted at /content/drive\n"
          ]
        }
      ],
      "source": [
        "from google.colab import drive\n",
        "drive.mount('/content/drive')"
      ]
    },
    {
      "cell_type": "code",
      "execution_count": null,
      "metadata": {
        "id": "gpxCDlXllPdw"
      },
      "outputs": [],
      "source": [
        "import sys"
      ]
    },
    {
      "cell_type": "code",
      "execution_count": null,
      "metadata": {
        "id": "NGU7SPWwlRnl"
      },
      "outputs": [],
      "source": [
        "project_path = '/content/drive/My Drive/ML project 2/'\n",
        "sys.path.append(project_path)"
      ]
    },
    {
      "cell_type": "code",
      "execution_count": null,
      "metadata": {
        "id": "-64F5t9dnRXr"
      },
      "outputs": [],
      "source": [
        "import os\n",
        "import torchvision.transforms as T\n",
        "import torch\n",
        "import json\n",
        "from levin.train_evaluate import TrainAndEvaluate\n",
        "from levin.models.segformer.segformer_dataset import SegformerRoadSegmentationDataset\n",
        "from levin.models.segformer.segformer_b3 import SegFormer\n",
        "from levin.loss_functions import ComboLoss, DiceLoss, TverskyLoss, WeightedBCEWithLogitsLoss\n",
        "from transformers import SegformerImageProcessor\n",
        "from torchvision.transforms.functional import InterpolationMode\n",
        "from sklearn.model_selection import train_test_split\n",
        "from torch.utils.data import DataLoader"
      ]
    },
    {
      "cell_type": "code",
      "execution_count": null,
      "metadata": {
        "id": "s8CHOkgonZWs"
      },
      "outputs": [],
      "source": [
        "image_dir = os.path.join(project_path, \"data\", \"training\", \"augmented\", \"images\")\n",
        "mask_dir = os.path.join(project_path, \"data\", \"training\", \"augmented\", \"masks\")\n",
        "\n",
        "external_image_dir = os.path.join(project_path, \"data\", \"training\", \"complete_data_augmented\", \"images\")\n",
        "external_mask_dir = os.path.join(project_path, \"data\", \"training\", \"complete_data_augmented\", \"masks\")\n",
        "\n",
        "chicago_image_dir = os.path.join(project_path, \"data\", \"training\", \"chicago_data_augmented\", \"images\")\n",
        "chicago_mask_dir = os.path.join(project_path, \"data\", \"training\", \"chicago_data_augmented\", \"masks\")"
      ]
    },
    {
      "cell_type": "code",
      "execution_count": null,
      "metadata": {
        "id": "2k5d2sQmsi4E"
      },
      "outputs": [],
      "source": [
        "# Load files for original augmented, external images and chicago images\n",
        "image_filenames = sorted(os.listdir(image_dir))\n",
        "mask_filenames = sorted(os.listdir(mask_dir))\n",
        "\n",
        "external_image_filenames = sorted(os.listdir(external_image_dir))\n",
        "external_mask_filenames = sorted(os.listdir(external_mask_dir))\n",
        "\n",
        "chicago_image_filenames = sorted(os.listdir(chicago_image_dir))\n",
        "chicago_mask_filenames = sorted(os.listdir(chicago_mask_dir))"
      ]
    },
    {
      "cell_type": "code",
      "execution_count": null,
      "metadata": {
        "id": "xUiJCu_eLJri"
      },
      "outputs": [],
      "source": [
        "import re\n",
        "# Clean images and masks for external and chicago data\n",
        "directories = [external_image_dir, external_mask_dir, chicago_image_dir, chicago_mask_dir]\n",
        "\n",
        "pattern = re.compile(r\".*\\(\\d+\\)\\.png$\")\n",
        "\n",
        "# Loop through each directory and remove matching files\n",
        "for directory in directories:\n",
        "    for filename in os.listdir(directory):\n",
        "        if pattern.match(filename):  # Check if the filename matches the pattern\n",
        "            file_path = os.path.join(directory, filename)\n",
        "            os.remove(file_path)  # Delete the file\n",
        "            print(f\"Deleted: {file_path}\")"
      ]
    },
    {
      "cell_type": "code",
      "execution_count": null,
      "metadata": {
        "colab": {
          "base_uri": "https://localhost:8080/"
        },
        "id": "5V9OxtG_J3dE",
        "outputId": "00f37f9d-4175-4a24-a0fd-b63c8f838d89"
      },
      "outputs": [
        {
          "name": "stdout",
          "output_type": "stream",
          "text": [
            "Number of exernal images: 8660, number of external masks: 8660\n",
            "Number of chicago images: 2785, number of chicago masks: 2785\n"
          ]
        }
      ],
      "source": [
        "print(f\"Number of exernal images: {len(external_image_filenames)}, number of external masks: {len(external_mask_filenames)}\")\n",
        "print(f\"Number of chicago images: {len(chicago_image_filenames)}, number of chicago masks: {len(chicago_mask_filenames)}\")\n"
      ]
    },
    {
      "cell_type": "code",
      "execution_count": null,
      "metadata": {
        "colab": {
          "base_uri": "https://localhost:8080/"
        },
        "id": "AdK0Oug0Qgg2",
        "outputId": "ef08d602-0071-40c2-8678-f050da35e3cc"
      },
      "outputs": [
        {
          "name": "stdout",
          "output_type": "stream",
          "text": [
            "Images without corresponding masks:\n",
            "set()\n",
            "Masks without corresponding images:\n",
            "set()\n"
          ]
        }
      ],
      "source": [
        "image_dir_filenames = set(os.listdir(image_dir))\n",
        "mask_dir_filenames = set(os.listdir(mask_dir))\n",
        "\n",
        "# Check for images without masks\n",
        "images_without_masks = image_dir_filenames - mask_dir_filenames\n",
        "# Check for masks without images\n",
        "masks_without_images = mask_dir_filenames - image_dir_filenames\n",
        "\n",
        "# Print results\n",
        "print(\"Images without corresponding masks:\")\n",
        "print(images_without_masks)\n",
        "\n",
        "print(\"Masks without corresponding images:\")\n",
        "print(masks_without_images)"
      ]
    },
    {
      "cell_type": "code",
      "execution_count": null,
      "metadata": {
        "colab": {
          "base_uri": "https://localhost:8080/"
        },
        "id": "di-FCq6st--c",
        "outputId": "6ac7aa83-3ab1-410a-f9d3-895611b8e69f"
      },
      "outputs": [
        {
          "name": "stdout",
          "output_type": "stream",
          "text": [
            "Number of training images: 360\n",
            "Number of validation images: 40\n",
            "Number of test images: 100\n",
            "Number of external training images: 6235\n",
            "Number of external validation images: 693\n",
            "Number of external test images: 1732\n",
            "Number of chicago training images: 2005\n",
            "Number of chicago validation images: 223\n",
            "Number of chicago test images: 557\n"
          ]
        }
      ],
      "source": [
        "### Original augmented data\n",
        "# Create train test and validation set for original augmented data\n",
        "train_images, test_images, train_masks, test_masks = train_test_split(\n",
        "    image_filenames, mask_filenames, test_size=0.2, random_state=42\n",
        ")\n",
        "train_images, validation_images, train_masks, validation_masks = train_test_split(\n",
        "    train_images, train_masks, test_size=0.1, random_state=42)\n",
        "\n",
        "print(f\"Number of training images: {len(train_images)}\")\n",
        "print(f\"Number of validation images: {len(validation_images)}\")\n",
        "print(f\"Number of test images: {len(test_images)}\")\n",
        "\n",
        "# Define datasets for train and test sets\n",
        "train_dataset = SegformerRoadSegmentationDataset(image_dir, mask_dir, train_images, train_masks)\n",
        "test_dataset = SegformerRoadSegmentationDataset(image_dir, mask_dir, test_images, test_masks)\n",
        "validation_dataset = SegformerRoadSegmentationDataset(image_dir, mask_dir, validation_images, validation_masks)\n",
        "\n",
        "train_loader = DataLoader(train_dataset, batch_size=8, shuffle=True, num_workers=2)\n",
        "test_loader = DataLoader(test_dataset, batch_size=8, shuffle=False, num_workers=2)\n",
        "validation_loader = DataLoader(validation_dataset, batch_size=8, shuffle=False, num_workers=2)\n",
        "\n",
        "\n",
        "### Complete augmented original and external data\n",
        "# Create train test and validation set for external data\n",
        "external_train_images, external_test_images, external_train_masks, external_test_masks = train_test_split(\n",
        "    external_image_filenames, external_mask_filenames, test_size=0.2, random_state=42\n",
        ")\n",
        "external_train_images, external_validation_images, external_train_masks, external_validation_masks = train_test_split(\n",
        "    external_train_images, external_train_masks, test_size=0.1, random_state=42)\n",
        "\n",
        "print(f\"Number of external training images: {len(external_train_images)}\")\n",
        "print(f\"Number of external validation images: {len(external_validation_images)}\")\n",
        "print(f\"Number of external test images: {len(external_test_images)}\")\n",
        "\n",
        "# Define datasets for train and test sets\n",
        "external_train_dataset = SegformerRoadSegmentationDataset(external_image_dir, external_mask_dir, external_train_images, external_train_masks)\n",
        "external_test_dataset = SegformerRoadSegmentationDataset(external_image_dir, external_mask_dir, external_test_images, external_test_masks)\n",
        "external_validation_dataset = SegformerRoadSegmentationDataset(external_image_dir, external_mask_dir, external_validation_images, external_validation_masks)\n",
        "\n",
        "external_train_loader = DataLoader(external_train_dataset, batch_size=8, shuffle=True, num_workers=2)\n",
        "external_test_loader = DataLoader(external_test_dataset, batch_size=8, shuffle=False, num_workers=2)\n",
        "external_validation_loader = DataLoader(external_validation_dataset, batch_size=8, shuffle=False, num_workers=2)\n",
        "\n",
        "\n",
        "### Augmented original and chicago data\n",
        "# Create train test and validation set for external chicago data\n",
        "chicago_train_images, chicago_test_images, chicago_train_masks, chicago_test_masks = train_test_split(\n",
        "    chicago_image_filenames, chicago_mask_filenames, test_size=0.2, random_state=42\n",
        ")\n",
        "chicago_train_images, chicago_validation_images, chicago_train_masks, chicago_validation_masks = train_test_split(\n",
        "    chicago_train_images, chicago_train_masks, test_size=0.1, random_state=42)\n",
        "\n",
        "print(f\"Number of chicago training images: {len(chicago_train_images)}\")\n",
        "print(f\"Number of chicago validation images: {len(chicago_validation_images)}\")\n",
        "print(f\"Number of chicago test images: {len(chicago_test_images)}\")\n",
        "\n",
        "# Define datasets for train and test sets\n",
        "chicago_train_dataset = SegformerRoadSegmentationDataset(chicago_image_dir, chicago_mask_dir, chicago_train_images, chicago_train_masks)\n",
        "chicago_test_dataset = SegformerRoadSegmentationDataset(chicago_image_dir, chicago_mask_dir, chicago_test_images, chicago_test_masks)\n",
        "chicago_validation_dataset = SegformerRoadSegmentationDataset(chicago_image_dir, chicago_mask_dir, chicago_validation_images, external_validation_masks)\n",
        "\n",
        "chicago_train_loader = DataLoader(chicago_train_dataset, batch_size=8, shuffle=True, num_workers=2)\n",
        "chicago_test_loader = DataLoader(chicago_test_dataset, batch_size=8, shuffle=False, num_workers=2)\n",
        "chicago_validation_loader = DataLoader(chicago_validation_dataset, batch_size=8, shuffle=False, num_workers=2)"
      ]
    },
    {
      "cell_type": "code",
      "execution_count": null,
      "metadata": {
        "colab": {
          "base_uri": "https://localhost:8080/"
        },
        "id": "DPM3Cisht_0r",
        "outputId": "ae0f679e-6ed0-4f63-b123-bc1f5ec43474"
      },
      "outputs": [
        {
          "name": "stdout",
          "output_type": "stream",
          "text": [
            "Created save path /content/drive/My Drive/ML project 2/levin/trained_models/segformer_b3\n",
            "Training model with BCEWithLogitsLoss\n"
          ]
        },
        {
          "name": "stderr",
          "output_type": "stream",
          "text": [
            "/usr/local/lib/python3.10/dist-packages/huggingface_hub/utils/_auth.py:94: UserWarning: \n",
            "The secret `HF_TOKEN` does not exist in your Colab secrets.\n",
            "To authenticate with the Hugging Face Hub, create a token in your settings tab (https://huggingface.co/settings/tokens), set it as secret in your Google Colab and restart your session.\n",
            "You will be able to reuse this secret in all of your notebooks.\n",
            "Please note that authentication is recommended but still optional to access public models or datasets.\n",
            "  warnings.warn(\n",
            "Some weights of SegformerForSemanticSegmentation were not initialized from the model checkpoint at nvidia/segformer-b3-finetuned-ade-512-512 and are newly initialized because the shapes did not match:\n",
            "- decode_head.classifier.weight: found shape torch.Size([150, 768, 1, 1]) in the checkpoint and torch.Size([1, 768, 1, 1]) in the model instantiated\n",
            "- decode_head.classifier.bias: found shape torch.Size([150]) in the checkpoint and torch.Size([1]) in the model instantiated\n",
            "You should probably TRAIN this model on a down-stream task to be able to use it for predictions and inference.\n"
          ]
        },
        {
          "name": "stdout",
          "output_type": "stream",
          "text": [
            "Model saved to /content/drive/My Drive/ML project 2/levin/trained_models/segformer_b3/BCEWithLogitsLoss/trained_model_epoch1.pt\n",
            "Epoch 1/10, Training Loss: 0.4575, Validation Loss: 0.2637\n",
            "Model saved to /content/drive/My Drive/ML project 2/levin/trained_models/segformer_b3/BCEWithLogitsLoss/trained_model_epoch2.pt\n",
            "Epoch 2/10, Training Loss: 0.1646, Validation Loss: 0.1573\n",
            "Model saved to /content/drive/My Drive/ML project 2/levin/trained_models/segformer_b3/BCEWithLogitsLoss/trained_model_epoch3.pt\n",
            "Epoch 3/10, Training Loss: 0.1158, Validation Loss: 0.1337\n",
            "Model saved to /content/drive/My Drive/ML project 2/levin/trained_models/segformer_b3/BCEWithLogitsLoss/trained_model_epoch4.pt\n",
            "Epoch 4/10, Training Loss: 0.0908, Validation Loss: 0.1307\n",
            "Model saved to /content/drive/My Drive/ML project 2/levin/trained_models/segformer_b3/BCEWithLogitsLoss/trained_model_epoch5.pt\n",
            "Epoch 5/10, Training Loss: 0.0743, Validation Loss: 0.1246\n",
            "Model saved to /content/drive/My Drive/ML project 2/levin/trained_models/segformer_b3/BCEWithLogitsLoss/trained_model_epoch6.pt\n",
            "Epoch 6/10, Training Loss: 0.0636, Validation Loss: 0.1303\n",
            "Model saved to /content/drive/My Drive/ML project 2/levin/trained_models/segformer_b3/BCEWithLogitsLoss/trained_model_epoch7.pt\n",
            "Epoch 7/10, Training Loss: 0.0559, Validation Loss: 0.1353\n",
            "Model saved to /content/drive/My Drive/ML project 2/levin/trained_models/segformer_b3/BCEWithLogitsLoss/trained_model_epoch8.pt\n",
            "Epoch 8/10, Training Loss: 0.0501, Validation Loss: 0.1539\n",
            "Model saved to /content/drive/My Drive/ML project 2/levin/trained_models/segformer_b3/BCEWithLogitsLoss/trained_model_epoch9.pt\n",
            "Epoch 9/10, Training Loss: 0.0461, Validation Loss: 0.1437\n",
            "Model saved to /content/drive/My Drive/ML project 2/levin/trained_models/segformer_b3/BCEWithLogitsLoss/trained_model_epoch10.pt\n",
            "Epoch 10/10, Training Loss: 0.0421, Validation Loss: 0.1399\n",
            "Training finished\n",
            "Training complete\n",
            "Best epoch: 5\n"
          ]
        },
        {
          "name": "stderr",
          "output_type": "stream",
          "text": [
            "/content/drive/My Drive/ML project 2/levin/train_evaluate.py:186: FutureWarning: You are using `torch.load` with `weights_only=False` (the current default value), which uses the default pickle module implicitly. It is possible to construct malicious pickle data which will execute arbitrary code during unpickling (See https://github.com/pytorch/pytorch/blob/main/SECURITY.md#untrusted-models for more details). In a future release, the default value for `weights_only` will be flipped to `True`. This limits the functions that could be executed during unpickling. Arbitrary objects will no longer be allowed to be loaded via this mode unless they are explicitly allowlisted by the user via `torch.serialization.add_safe_globals`. We recommend you start setting `weights_only=True` for any use case where you don't have full control of the loaded file. Please open an issue on GitHub for any issues related to this experimental feature.\n",
            "  self.model.model.load_state_dict(torch.load(best_model_path))\n"
          ]
        },
        {
          "name": "stdout",
          "output_type": "stream",
          "text": [
            "Best model loaded from /content/drive/My Drive/ML project 2/levin/trained_models/segformer_b3/BCEWithLogitsLoss/trained_model_epoch5.pt\n",
            "Deleted model: /content/drive/My Drive/ML project 2/levin/trained_models/segformer_b3/BCEWithLogitsLoss/trained_model_epoch1.pt\n",
            "Deleted model: /content/drive/My Drive/ML project 2/levin/trained_models/segformer_b3/BCEWithLogitsLoss/trained_model_epoch2.pt\n",
            "Deleted model: /content/drive/My Drive/ML project 2/levin/trained_models/segformer_b3/BCEWithLogitsLoss/trained_model_epoch3.pt\n",
            "Deleted model: /content/drive/My Drive/ML project 2/levin/trained_models/segformer_b3/BCEWithLogitsLoss/trained_model_epoch4.pt\n",
            "Deleted model: /content/drive/My Drive/ML project 2/levin/trained_models/segformer_b3/BCEWithLogitsLoss/trained_model_epoch6.pt\n",
            "Deleted model: /content/drive/My Drive/ML project 2/levin/trained_models/segformer_b3/BCEWithLogitsLoss/trained_model_epoch7.pt\n",
            "Deleted model: /content/drive/My Drive/ML project 2/levin/trained_models/segformer_b3/BCEWithLogitsLoss/trained_model_epoch8.pt\n",
            "Deleted model: /content/drive/My Drive/ML project 2/levin/trained_models/segformer_b3/BCEWithLogitsLoss/trained_model_epoch9.pt\n",
            "Deleted model: /content/drive/My Drive/ML project 2/levin/trained_models/segformer_b3/BCEWithLogitsLoss/trained_model_epoch10.pt\n",
            "Threshold 0.25, F1: 0.8934, Accuracy: 0.9496, Precision: 0.9124, Recall: 0.8752\n",
            "Threshold 0.5, F1: 0.8827, Accuracy: 0.9545, Precision: 0.8918, Recall: 0.8737\n",
            "Loss plot saved to /content/drive/My Drive/ML project 2/levin/trained_models/segformer_b3/BCEWithLogitsLoss/loss_over_epochs.png\n",
            "Everything complete. Results saved to /content/drive/My Drive/ML project 2/levin/trained_models/segformer_b3/BCEWithLogitsLoss.\n",
            "Training model with WeightedBCEWithLogitsLoss\n"
          ]
        },
        {
          "name": "stderr",
          "output_type": "stream",
          "text": [
            "Some weights of SegformerForSemanticSegmentation were not initialized from the model checkpoint at nvidia/segformer-b3-finetuned-ade-512-512 and are newly initialized because the shapes did not match:\n",
            "- decode_head.classifier.weight: found shape torch.Size([150, 768, 1, 1]) in the checkpoint and torch.Size([1, 768, 1, 1]) in the model instantiated\n",
            "- decode_head.classifier.bias: found shape torch.Size([150]) in the checkpoint and torch.Size([1]) in the model instantiated\n",
            "You should probably TRAIN this model on a down-stream task to be able to use it for predictions and inference.\n"
          ]
        },
        {
          "name": "stdout",
          "output_type": "stream",
          "text": [
            "Model saved to /content/drive/My Drive/ML project 2/levin/trained_models/segformer_b3/WeightedBCEWithLogitsLoss/trained_model_epoch1.pt\n",
            "Epoch 1/10, Training Loss: 0.6769, Validation Loss: 0.4511\n",
            "Model saved to /content/drive/My Drive/ML project 2/levin/trained_models/segformer_b3/WeightedBCEWithLogitsLoss/trained_model_epoch2.pt\n",
            "Epoch 2/10, Training Loss: 0.3004, Validation Loss: 0.2816\n",
            "Model saved to /content/drive/My Drive/ML project 2/levin/trained_models/segformer_b3/WeightedBCEWithLogitsLoss/trained_model_epoch3.pt\n",
            "Epoch 3/10, Training Loss: 0.2098, Validation Loss: 0.2550\n",
            "Model saved to /content/drive/My Drive/ML project 2/levin/trained_models/segformer_b3/WeightedBCEWithLogitsLoss/trained_model_epoch4.pt\n",
            "Epoch 4/10, Training Loss: 0.1667, Validation Loss: 0.2605\n",
            "Model saved to /content/drive/My Drive/ML project 2/levin/trained_models/segformer_b3/WeightedBCEWithLogitsLoss/trained_model_epoch5.pt\n",
            "Epoch 5/10, Training Loss: 0.1420, Validation Loss: 0.2771\n",
            "Model saved to /content/drive/My Drive/ML project 2/levin/trained_models/segformer_b3/WeightedBCEWithLogitsLoss/trained_model_epoch6.pt\n",
            "Epoch 6/10, Training Loss: 0.1224, Validation Loss: 0.2678\n",
            "Model saved to /content/drive/My Drive/ML project 2/levin/trained_models/segformer_b3/WeightedBCEWithLogitsLoss/trained_model_epoch7.pt\n",
            "Epoch 7/10, Training Loss: 0.1061, Validation Loss: 0.3228\n",
            "Model saved to /content/drive/My Drive/ML project 2/levin/trained_models/segformer_b3/WeightedBCEWithLogitsLoss/trained_model_epoch8.pt\n",
            "Epoch 8/10, Training Loss: 0.0957, Validation Loss: 0.2984\n",
            "Model saved to /content/drive/My Drive/ML project 2/levin/trained_models/segformer_b3/WeightedBCEWithLogitsLoss/trained_model_epoch9.pt\n",
            "Epoch 9/10, Training Loss: 0.0862, Validation Loss: 0.3418\n",
            "Model saved to /content/drive/My Drive/ML project 2/levin/trained_models/segformer_b3/WeightedBCEWithLogitsLoss/trained_model_epoch10.pt\n",
            "Epoch 10/10, Training Loss: 0.0842, Validation Loss: 0.3399\n",
            "Training finished\n",
            "Training complete\n",
            "Best epoch: 3\n"
          ]
        },
        {
          "name": "stderr",
          "output_type": "stream",
          "text": [
            "/content/drive/My Drive/ML project 2/levin/train_evaluate.py:186: FutureWarning: You are using `torch.load` with `weights_only=False` (the current default value), which uses the default pickle module implicitly. It is possible to construct malicious pickle data which will execute arbitrary code during unpickling (See https://github.com/pytorch/pytorch/blob/main/SECURITY.md#untrusted-models for more details). In a future release, the default value for `weights_only` will be flipped to `True`. This limits the functions that could be executed during unpickling. Arbitrary objects will no longer be allowed to be loaded via this mode unless they are explicitly allowlisted by the user via `torch.serialization.add_safe_globals`. We recommend you start setting `weights_only=True` for any use case where you don't have full control of the loaded file. Please open an issue on GitHub for any issues related to this experimental feature.\n",
            "  self.model.model.load_state_dict(torch.load(best_model_path))\n"
          ]
        },
        {
          "name": "stdout",
          "output_type": "stream",
          "text": [
            "Best model loaded from /content/drive/My Drive/ML project 2/levin/trained_models/segformer_b3/WeightedBCEWithLogitsLoss/trained_model_epoch3.pt\n",
            "Deleted model: /content/drive/My Drive/ML project 2/levin/trained_models/segformer_b3/WeightedBCEWithLogitsLoss/trained_model_epoch1.pt\n",
            "Deleted model: /content/drive/My Drive/ML project 2/levin/trained_models/segformer_b3/WeightedBCEWithLogitsLoss/trained_model_epoch2.pt\n",
            "Deleted model: /content/drive/My Drive/ML project 2/levin/trained_models/segformer_b3/WeightedBCEWithLogitsLoss/trained_model_epoch4.pt\n",
            "Deleted model: /content/drive/My Drive/ML project 2/levin/trained_models/segformer_b3/WeightedBCEWithLogitsLoss/trained_model_epoch5.pt\n",
            "Deleted model: /content/drive/My Drive/ML project 2/levin/trained_models/segformer_b3/WeightedBCEWithLogitsLoss/trained_model_epoch6.pt\n",
            "Deleted model: /content/drive/My Drive/ML project 2/levin/trained_models/segformer_b3/WeightedBCEWithLogitsLoss/trained_model_epoch7.pt\n",
            "Deleted model: /content/drive/My Drive/ML project 2/levin/trained_models/segformer_b3/WeightedBCEWithLogitsLoss/trained_model_epoch8.pt\n",
            "Deleted model: /content/drive/My Drive/ML project 2/levin/trained_models/segformer_b3/WeightedBCEWithLogitsLoss/trained_model_epoch9.pt\n",
            "Deleted model: /content/drive/My Drive/ML project 2/levin/trained_models/segformer_b3/WeightedBCEWithLogitsLoss/trained_model_epoch10.pt\n",
            "Threshold 0.25, F1: 0.8664, Accuracy: 0.9315, Precision: 0.8189, Recall: 0.9198\n",
            "Threshold 0.5, F1: 0.8423, Accuracy: 0.9326, Precision: 0.7779, Recall: 0.9183\n",
            "Loss plot saved to /content/drive/My Drive/ML project 2/levin/trained_models/segformer_b3/WeightedBCEWithLogitsLoss/loss_over_epochs.png\n",
            "Everything complete. Results saved to /content/drive/My Drive/ML project 2/levin/trained_models/segformer_b3/WeightedBCEWithLogitsLoss.\n",
            "Training model with DiceLoss\n"
          ]
        },
        {
          "name": "stderr",
          "output_type": "stream",
          "text": [
            "Some weights of SegformerForSemanticSegmentation were not initialized from the model checkpoint at nvidia/segformer-b3-finetuned-ade-512-512 and are newly initialized because the shapes did not match:\n",
            "- decode_head.classifier.weight: found shape torch.Size([150, 768, 1, 1]) in the checkpoint and torch.Size([1, 768, 1, 1]) in the model instantiated\n",
            "- decode_head.classifier.bias: found shape torch.Size([150]) in the checkpoint and torch.Size([1]) in the model instantiated\n",
            "You should probably TRAIN this model on a down-stream task to be able to use it for predictions and inference.\n"
          ]
        },
        {
          "name": "stdout",
          "output_type": "stream",
          "text": [
            "Model saved to /content/drive/My Drive/ML project 2/levin/trained_models/segformer_b3/DiceLoss/trained_model_epoch1.pt\n",
            "Epoch 1/10, Training Loss: 0.5179, Validation Loss: 0.3253\n",
            "Model saved to /content/drive/My Drive/ML project 2/levin/trained_models/segformer_b3/DiceLoss/trained_model_epoch2.pt\n",
            "Epoch 2/10, Training Loss: 0.2311, Validation Loss: 0.1715\n",
            "Model saved to /content/drive/My Drive/ML project 2/levin/trained_models/segformer_b3/DiceLoss/trained_model_epoch3.pt\n",
            "Epoch 3/10, Training Loss: 0.1744, Validation Loss: 0.1594\n",
            "Model saved to /content/drive/My Drive/ML project 2/levin/trained_models/segformer_b3/DiceLoss/trained_model_epoch4.pt\n",
            "Epoch 4/10, Training Loss: 0.1533, Validation Loss: 0.1412\n",
            "Model saved to /content/drive/My Drive/ML project 2/levin/trained_models/segformer_b3/DiceLoss/trained_model_epoch5.pt\n",
            "Epoch 5/10, Training Loss: 0.1340, Validation Loss: 0.1332\n",
            "Model saved to /content/drive/My Drive/ML project 2/levin/trained_models/segformer_b3/DiceLoss/trained_model_epoch6.pt\n",
            "Epoch 6/10, Training Loss: 0.1202, Validation Loss: 0.1329\n",
            "Model saved to /content/drive/My Drive/ML project 2/levin/trained_models/segformer_b3/DiceLoss/trained_model_epoch7.pt\n",
            "Epoch 7/10, Training Loss: 0.1076, Validation Loss: 0.1230\n",
            "Model saved to /content/drive/My Drive/ML project 2/levin/trained_models/segformer_b3/DiceLoss/trained_model_epoch8.pt\n",
            "Epoch 8/10, Training Loss: 0.0960, Validation Loss: 0.1238\n",
            "Model saved to /content/drive/My Drive/ML project 2/levin/trained_models/segformer_b3/DiceLoss/trained_model_epoch9.pt\n",
            "Epoch 9/10, Training Loss: 0.0858, Validation Loss: 0.1192\n",
            "Model saved to /content/drive/My Drive/ML project 2/levin/trained_models/segformer_b3/DiceLoss/trained_model_epoch10.pt\n",
            "Epoch 10/10, Training Loss: 0.0801, Validation Loss: 0.1190\n",
            "Training finished\n",
            "Training complete\n",
            "Best epoch: 10\n"
          ]
        },
        {
          "name": "stderr",
          "output_type": "stream",
          "text": [
            "/content/drive/My Drive/ML project 2/levin/train_evaluate.py:186: FutureWarning: You are using `torch.load` with `weights_only=False` (the current default value), which uses the default pickle module implicitly. It is possible to construct malicious pickle data which will execute arbitrary code during unpickling (See https://github.com/pytorch/pytorch/blob/main/SECURITY.md#untrusted-models for more details). In a future release, the default value for `weights_only` will be flipped to `True`. This limits the functions that could be executed during unpickling. Arbitrary objects will no longer be allowed to be loaded via this mode unless they are explicitly allowlisted by the user via `torch.serialization.add_safe_globals`. We recommend you start setting `weights_only=True` for any use case where you don't have full control of the loaded file. Please open an issue on GitHub for any issues related to this experimental feature.\n",
            "  self.model.model.load_state_dict(torch.load(best_model_path))\n"
          ]
        },
        {
          "name": "stdout",
          "output_type": "stream",
          "text": [
            "Best model loaded from /content/drive/My Drive/ML project 2/levin/trained_models/segformer_b3/DiceLoss/trained_model_epoch10.pt\n",
            "Deleted model: /content/drive/My Drive/ML project 2/levin/trained_models/segformer_b3/DiceLoss/trained_model_epoch1.pt\n",
            "Deleted model: /content/drive/My Drive/ML project 2/levin/trained_models/segformer_b3/DiceLoss/trained_model_epoch2.pt\n",
            "Deleted model: /content/drive/My Drive/ML project 2/levin/trained_models/segformer_b3/DiceLoss/trained_model_epoch3.pt\n",
            "Deleted model: /content/drive/My Drive/ML project 2/levin/trained_models/segformer_b3/DiceLoss/trained_model_epoch4.pt\n",
            "Deleted model: /content/drive/My Drive/ML project 2/levin/trained_models/segformer_b3/DiceLoss/trained_model_epoch5.pt\n",
            "Deleted model: /content/drive/My Drive/ML project 2/levin/trained_models/segformer_b3/DiceLoss/trained_model_epoch6.pt\n",
            "Deleted model: /content/drive/My Drive/ML project 2/levin/trained_models/segformer_b3/DiceLoss/trained_model_epoch7.pt\n",
            "Deleted model: /content/drive/My Drive/ML project 2/levin/trained_models/segformer_b3/DiceLoss/trained_model_epoch8.pt\n",
            "Deleted model: /content/drive/My Drive/ML project 2/levin/trained_models/segformer_b3/DiceLoss/trained_model_epoch9.pt\n",
            "Threshold 0.25, F1: 0.8907, Accuracy: 0.9481, Precision: 0.9064, Recall: 0.8755\n",
            "Threshold 0.5, F1: 0.8782, Accuracy: 0.9525, Precision: 0.8828, Recall: 0.8737\n",
            "Loss plot saved to /content/drive/My Drive/ML project 2/levin/trained_models/segformer_b3/DiceLoss/loss_over_epochs.png\n",
            "Everything complete. Results saved to /content/drive/My Drive/ML project 2/levin/trained_models/segformer_b3/DiceLoss.\n",
            "Training model with ComboLoss\n"
          ]
        },
        {
          "name": "stderr",
          "output_type": "stream",
          "text": [
            "Some weights of SegformerForSemanticSegmentation were not initialized from the model checkpoint at nvidia/segformer-b3-finetuned-ade-512-512 and are newly initialized because the shapes did not match:\n",
            "- decode_head.classifier.weight: found shape torch.Size([150, 768, 1, 1]) in the checkpoint and torch.Size([1, 768, 1, 1]) in the model instantiated\n",
            "- decode_head.classifier.bias: found shape torch.Size([150]) in the checkpoint and torch.Size([1]) in the model instantiated\n",
            "You should probably TRAIN this model on a down-stream task to be able to use it for predictions and inference.\n"
          ]
        },
        {
          "name": "stdout",
          "output_type": "stream",
          "text": [
            "Model saved to /content/drive/My Drive/ML project 2/levin/trained_models/segformer_b3/ComboLoss/trained_model_epoch1.pt\n",
            "Epoch 1/10, Training Loss: 0.4912, Validation Loss: 0.3136\n",
            "Model saved to /content/drive/My Drive/ML project 2/levin/trained_models/segformer_b3/ComboLoss/trained_model_epoch2.pt\n",
            "Epoch 2/10, Training Loss: 0.2100, Validation Loss: 0.1830\n",
            "Model saved to /content/drive/My Drive/ML project 2/levin/trained_models/segformer_b3/ComboLoss/trained_model_epoch3.pt\n",
            "Epoch 3/10, Training Loss: 0.1515, Validation Loss: 0.1550\n",
            "Model saved to /content/drive/My Drive/ML project 2/levin/trained_models/segformer_b3/ComboLoss/trained_model_epoch4.pt\n",
            "Epoch 4/10, Training Loss: 0.1207, Validation Loss: 0.1518\n",
            "Model saved to /content/drive/My Drive/ML project 2/levin/trained_models/segformer_b3/ComboLoss/trained_model_epoch5.pt\n",
            "Epoch 5/10, Training Loss: 0.1047, Validation Loss: 0.1508\n",
            "Model saved to /content/drive/My Drive/ML project 2/levin/trained_models/segformer_b3/ComboLoss/trained_model_epoch6.pt\n",
            "Epoch 6/10, Training Loss: 0.0889, Validation Loss: 0.1455\n",
            "Model saved to /content/drive/My Drive/ML project 2/levin/trained_models/segformer_b3/ComboLoss/trained_model_epoch7.pt\n",
            "Epoch 7/10, Training Loss: 0.0778, Validation Loss: 0.1505\n",
            "Model saved to /content/drive/My Drive/ML project 2/levin/trained_models/segformer_b3/ComboLoss/trained_model_epoch8.pt\n",
            "Epoch 8/10, Training Loss: 0.0687, Validation Loss: 0.1526\n",
            "Model saved to /content/drive/My Drive/ML project 2/levin/trained_models/segformer_b3/ComboLoss/trained_model_epoch9.pt\n",
            "Epoch 9/10, Training Loss: 0.0629, Validation Loss: 0.1566\n",
            "Model saved to /content/drive/My Drive/ML project 2/levin/trained_models/segformer_b3/ComboLoss/trained_model_epoch10.pt\n",
            "Epoch 10/10, Training Loss: 0.0570, Validation Loss: 0.1630\n",
            "Training finished\n",
            "Training complete\n",
            "Best epoch: 6\n"
          ]
        },
        {
          "name": "stderr",
          "output_type": "stream",
          "text": [
            "/content/drive/My Drive/ML project 2/levin/train_evaluate.py:186: FutureWarning: You are using `torch.load` with `weights_only=False` (the current default value), which uses the default pickle module implicitly. It is possible to construct malicious pickle data which will execute arbitrary code during unpickling (See https://github.com/pytorch/pytorch/blob/main/SECURITY.md#untrusted-models for more details). In a future release, the default value for `weights_only` will be flipped to `True`. This limits the functions that could be executed during unpickling. Arbitrary objects will no longer be allowed to be loaded via this mode unless they are explicitly allowlisted by the user via `torch.serialization.add_safe_globals`. We recommend you start setting `weights_only=True` for any use case where you don't have full control of the loaded file. Please open an issue on GitHub for any issues related to this experimental feature.\n",
            "  self.model.model.load_state_dict(torch.load(best_model_path))\n"
          ]
        },
        {
          "name": "stdout",
          "output_type": "stream",
          "text": [
            "Best model loaded from /content/drive/My Drive/ML project 2/levin/trained_models/segformer_b3/ComboLoss/trained_model_epoch6.pt\n",
            "Deleted model: /content/drive/My Drive/ML project 2/levin/trained_models/segformer_b3/ComboLoss/trained_model_epoch1.pt\n",
            "Deleted model: /content/drive/My Drive/ML project 2/levin/trained_models/segformer_b3/ComboLoss/trained_model_epoch2.pt\n",
            "Deleted model: /content/drive/My Drive/ML project 2/levin/trained_models/segformer_b3/ComboLoss/trained_model_epoch3.pt\n",
            "Deleted model: /content/drive/My Drive/ML project 2/levin/trained_models/segformer_b3/ComboLoss/trained_model_epoch4.pt\n",
            "Deleted model: /content/drive/My Drive/ML project 2/levin/trained_models/segformer_b3/ComboLoss/trained_model_epoch5.pt\n",
            "Deleted model: /content/drive/My Drive/ML project 2/levin/trained_models/segformer_b3/ComboLoss/trained_model_epoch7.pt\n",
            "Deleted model: /content/drive/My Drive/ML project 2/levin/trained_models/segformer_b3/ComboLoss/trained_model_epoch8.pt\n",
            "Deleted model: /content/drive/My Drive/ML project 2/levin/trained_models/segformer_b3/ComboLoss/trained_model_epoch9.pt\n",
            "Deleted model: /content/drive/My Drive/ML project 2/levin/trained_models/segformer_b3/ComboLoss/trained_model_epoch10.pt\n",
            "Threshold 0.25, F1: 0.8893, Accuracy: 0.9475, Precision: 0.9065, Recall: 0.8728\n",
            "Threshold 0.5, F1: 0.8749, Accuracy: 0.9512, Precision: 0.8795, Recall: 0.8704\n",
            "Loss plot saved to /content/drive/My Drive/ML project 2/levin/trained_models/segformer_b3/ComboLoss/loss_over_epochs.png\n",
            "Everything complete. Results saved to /content/drive/My Drive/ML project 2/levin/trained_models/segformer_b3/ComboLoss.\n",
            "Training model with TverskyLoss\n"
          ]
        },
        {
          "name": "stderr",
          "output_type": "stream",
          "text": [
            "Some weights of SegformerForSemanticSegmentation were not initialized from the model checkpoint at nvidia/segformer-b3-finetuned-ade-512-512 and are newly initialized because the shapes did not match:\n",
            "- decode_head.classifier.weight: found shape torch.Size([150, 768, 1, 1]) in the checkpoint and torch.Size([1, 768, 1, 1]) in the model instantiated\n",
            "- decode_head.classifier.bias: found shape torch.Size([150]) in the checkpoint and torch.Size([1]) in the model instantiated\n",
            "You should probably TRAIN this model on a down-stream task to be able to use it for predictions and inference.\n"
          ]
        },
        {
          "name": "stdout",
          "output_type": "stream",
          "text": [
            "Model saved to /content/drive/My Drive/ML project 2/levin/trained_models/segformer_b3/TverskyLoss/trained_model_epoch1.pt\n",
            "Epoch 1/10, Training Loss: 0.5734, Validation Loss: 0.3551\n",
            "Model saved to /content/drive/My Drive/ML project 2/levin/trained_models/segformer_b3/TverskyLoss/trained_model_epoch2.pt\n",
            "Epoch 2/10, Training Loss: 0.2278, Validation Loss: 0.1673\n",
            "Model saved to /content/drive/My Drive/ML project 2/levin/trained_models/segformer_b3/TverskyLoss/trained_model_epoch3.pt\n",
            "Epoch 3/10, Training Loss: 0.1654, Validation Loss: 0.1465\n",
            "Model saved to /content/drive/My Drive/ML project 2/levin/trained_models/segformer_b3/TverskyLoss/trained_model_epoch4.pt\n",
            "Epoch 4/10, Training Loss: 0.1395, Validation Loss: 0.1392\n",
            "Model saved to /content/drive/My Drive/ML project 2/levin/trained_models/segformer_b3/TverskyLoss/trained_model_epoch5.pt\n",
            "Epoch 5/10, Training Loss: 0.1337, Validation Loss: 0.1513\n",
            "Model saved to /content/drive/My Drive/ML project 2/levin/trained_models/segformer_b3/TverskyLoss/trained_model_epoch6.pt\n",
            "Epoch 6/10, Training Loss: 0.1275, Validation Loss: 0.1318\n",
            "Model saved to /content/drive/My Drive/ML project 2/levin/trained_models/segformer_b3/TverskyLoss/trained_model_epoch7.pt\n",
            "Epoch 7/10, Training Loss: 0.1127, Validation Loss: 0.1162\n",
            "Model saved to /content/drive/My Drive/ML project 2/levin/trained_models/segformer_b3/TverskyLoss/trained_model_epoch8.pt\n",
            "Epoch 8/10, Training Loss: 0.0981, Validation Loss: 0.1151\n",
            "Model saved to /content/drive/My Drive/ML project 2/levin/trained_models/segformer_b3/TverskyLoss/trained_model_epoch9.pt\n",
            "Epoch 9/10, Training Loss: 0.0919, Validation Loss: 0.1092\n",
            "Model saved to /content/drive/My Drive/ML project 2/levin/trained_models/segformer_b3/TverskyLoss/trained_model_epoch10.pt\n",
            "Epoch 10/10, Training Loss: 0.0827, Validation Loss: 0.1070\n",
            "Training finished\n",
            "Training complete\n",
            "Best epoch: 10\n"
          ]
        },
        {
          "name": "stderr",
          "output_type": "stream",
          "text": [
            "/content/drive/My Drive/ML project 2/levin/train_evaluate.py:186: FutureWarning: You are using `torch.load` with `weights_only=False` (the current default value), which uses the default pickle module implicitly. It is possible to construct malicious pickle data which will execute arbitrary code during unpickling (See https://github.com/pytorch/pytorch/blob/main/SECURITY.md#untrusted-models for more details). In a future release, the default value for `weights_only` will be flipped to `True`. This limits the functions that could be executed during unpickling. Arbitrary objects will no longer be allowed to be loaded via this mode unless they are explicitly allowlisted by the user via `torch.serialization.add_safe_globals`. We recommend you start setting `weights_only=True` for any use case where you don't have full control of the loaded file. Please open an issue on GitHub for any issues related to this experimental feature.\n",
            "  self.model.model.load_state_dict(torch.load(best_model_path))\n"
          ]
        },
        {
          "name": "stdout",
          "output_type": "stream",
          "text": [
            "Best model loaded from /content/drive/My Drive/ML project 2/levin/trained_models/segformer_b3/TverskyLoss/trained_model_epoch10.pt\n",
            "Deleted model: /content/drive/My Drive/ML project 2/levin/trained_models/segformer_b3/TverskyLoss/trained_model_epoch1.pt\n",
            "Deleted model: /content/drive/My Drive/ML project 2/levin/trained_models/segformer_b3/TverskyLoss/trained_model_epoch2.pt\n",
            "Deleted model: /content/drive/My Drive/ML project 2/levin/trained_models/segformer_b3/TverskyLoss/trained_model_epoch3.pt\n",
            "Deleted model: /content/drive/My Drive/ML project 2/levin/trained_models/segformer_b3/TverskyLoss/trained_model_epoch4.pt\n",
            "Deleted model: /content/drive/My Drive/ML project 2/levin/trained_models/segformer_b3/TverskyLoss/trained_model_epoch5.pt\n",
            "Deleted model: /content/drive/My Drive/ML project 2/levin/trained_models/segformer_b3/TverskyLoss/trained_model_epoch6.pt\n",
            "Deleted model: /content/drive/My Drive/ML project 2/levin/trained_models/segformer_b3/TverskyLoss/trained_model_epoch7.pt\n",
            "Deleted model: /content/drive/My Drive/ML project 2/levin/trained_models/segformer_b3/TverskyLoss/trained_model_epoch8.pt\n",
            "Deleted model: /content/drive/My Drive/ML project 2/levin/trained_models/segformer_b3/TverskyLoss/trained_model_epoch9.pt\n",
            "Threshold 0.25, F1: 0.8793, Accuracy: 0.9444, Precision: 0.9238, Recall: 0.8389\n",
            "Threshold 0.5, F1: 0.8706, Accuracy: 0.9514, Precision: 0.9107, Recall: 0.8340\n",
            "Loss plot saved to /content/drive/My Drive/ML project 2/levin/trained_models/segformer_b3/TverskyLoss/loss_over_epochs.png\n",
            "Everything complete. Results saved to /content/drive/My Drive/ML project 2/levin/trained_models/segformer_b3/TverskyLoss.\n",
            "Best F1 score: 0.893398290739441\n",
            "Best threshold: 0.25\n",
            "Best epoch: 5\n",
            "Best loss function: BCEWithLogitsLoss\n"
          ]
        }
      ],
      "source": [
        "# Test different loss functions for original augmented data\n",
        "root_path = os.path.join(project_path, \"levin\")\n",
        "save_path = os.path.join(root_path, \"trained_models\", \"segformer_b3\")\n",
        "print(f\"Created save path {save_path}\")\n",
        "os.makedirs(save_path, exist_ok=True)\n",
        "\n",
        "loss_functions = [torch.nn.BCEWithLogitsLoss(), WeightedBCEWithLogitsLoss(), DiceLoss(), ComboLoss(), TverskyLoss()]\n",
        "best_f1 = 0\n",
        "best_threshold = 0\n",
        "best_epoch = 0\n",
        "best_loss_function = None\n",
        "best_data = \"original\"\n",
        "for criterion in loss_functions:\n",
        "  print(f\"Training model with {criterion.__class__.__name__}\")\n",
        "  # Train and evaluate\n",
        "  model = SegFormer()\n",
        "  train_eval = TrainAndEvaluate(model, train_loader, validation_loader, test_loader, criterion, 10, save_path, save=False)\n",
        "  f1, threshold, epoch = train_eval.run()\n",
        "  if f1 > best_f1:\n",
        "    best_f1 = f1\n",
        "    best_threshold = threshold\n",
        "    best_epoch = epoch\n",
        "    best_loss_function = criterion\n",
        "\n",
        "print(f\"Best F1 score: {best_f1}\")\n",
        "print(f\"Best threshold: {best_threshold}\")\n",
        "print(f\"Best epoch: {best_epoch}\")\n",
        "print(f\"Best loss function: {best_loss_function.__class__.__name__}\")"
      ]
    },
    {
      "cell_type": "code",
      "execution_count": null,
      "metadata": {
        "id": "gxpdRGZCfog8"
      },
      "outputs": [],
      "source": [
        "root_path = os.path.join(project_path, \"levin\")\n",
        "best_loss_function = torch.nn.BCEWithLogitsLoss()\n",
        "best_f1 = 0.8933"
      ]
    },
    {
      "cell_type": "code",
      "execution_count": null,
      "metadata": {
        "colab": {
          "base_uri": "https://localhost:8080/"
        },
        "id": "V6MH6N-Gym4H",
        "outputId": "42ad1c81-ae50-4d5a-de92-84ccd291cd11"
      },
      "outputs": [
        {
          "name": "stdout",
          "output_type": "stream",
          "text": [
            "Created external save path\n"
          ]
        },
        {
          "name": "stderr",
          "output_type": "stream",
          "text": [
            "Some weights of SegformerForSemanticSegmentation were not initialized from the model checkpoint at nvidia/segformer-b3-finetuned-ade-512-512 and are newly initialized because the shapes did not match:\n",
            "- decode_head.classifier.weight: found shape torch.Size([150, 768, 1, 1]) in the checkpoint and torch.Size([1, 768, 1, 1]) in the model instantiated\n",
            "- decode_head.classifier.bias: found shape torch.Size([150]) in the checkpoint and torch.Size([1]) in the model instantiated\n",
            "You should probably TRAIN this model on a down-stream task to be able to use it for predictions and inference.\n"
          ]
        },
        {
          "name": "stdout",
          "output_type": "stream",
          "text": [
            "Model saved to /content/drive/My Drive/ML project 2/levin/trained_models/segformer_b3/external/BCEWithLogitsLoss/trained_model_epoch1.pt\n",
            "Epoch 1/10, Training Loss: 0.2210, Validation Loss: 0.1694\n",
            "Model saved to /content/drive/My Drive/ML project 2/levin/trained_models/segformer_b3/external/BCEWithLogitsLoss/trained_model_epoch2.pt\n",
            "Epoch 2/10, Training Loss: 0.1437, Validation Loss: 0.1460\n",
            "Model saved to /content/drive/My Drive/ML project 2/levin/trained_models/segformer_b3/external/BCEWithLogitsLoss/trained_model_epoch3.pt\n",
            "Epoch 3/10, Training Loss: 0.1244, Validation Loss: 0.1383\n",
            "Model saved to /content/drive/My Drive/ML project 2/levin/trained_models/segformer_b3/external/BCEWithLogitsLoss/trained_model_epoch4.pt\n",
            "Epoch 4/10, Training Loss: 0.1105, Validation Loss: 0.1357\n",
            "Model saved to /content/drive/My Drive/ML project 2/levin/trained_models/segformer_b3/external/BCEWithLogitsLoss/trained_model_epoch5.pt\n",
            "Epoch 5/10, Training Loss: 0.0975, Validation Loss: 0.1307\n",
            "Model saved to /content/drive/My Drive/ML project 2/levin/trained_models/segformer_b3/external/BCEWithLogitsLoss/trained_model_epoch6.pt\n",
            "Epoch 6/10, Training Loss: 0.0876, Validation Loss: 0.1312\n",
            "Model saved to /content/drive/My Drive/ML project 2/levin/trained_models/segformer_b3/external/BCEWithLogitsLoss/trained_model_epoch7.pt\n",
            "Epoch 7/10, Training Loss: 0.0803, Validation Loss: 0.1368\n",
            "Model saved to /content/drive/My Drive/ML project 2/levin/trained_models/segformer_b3/external/BCEWithLogitsLoss/trained_model_epoch8.pt\n",
            "Epoch 8/10, Training Loss: 0.0733, Validation Loss: 0.1393\n",
            "Model saved to /content/drive/My Drive/ML project 2/levin/trained_models/segformer_b3/external/BCEWithLogitsLoss/trained_model_epoch9.pt\n",
            "Epoch 9/10, Training Loss: 0.0689, Validation Loss: 0.1410\n",
            "Model saved to /content/drive/My Drive/ML project 2/levin/trained_models/segformer_b3/external/BCEWithLogitsLoss/trained_model_epoch10.pt\n",
            "Epoch 10/10, Training Loss: 0.0641, Validation Loss: 0.1457\n",
            "Training finished\n",
            "Training complete\n",
            "Best epoch: 5\n"
          ]
        },
        {
          "name": "stderr",
          "output_type": "stream",
          "text": [
            "/content/drive/My Drive/ML project 2/levin/train_evaluate.py:186: FutureWarning: You are using `torch.load` with `weights_only=False` (the current default value), which uses the default pickle module implicitly. It is possible to construct malicious pickle data which will execute arbitrary code during unpickling (See https://github.com/pytorch/pytorch/blob/main/SECURITY.md#untrusted-models for more details). In a future release, the default value for `weights_only` will be flipped to `True`. This limits the functions that could be executed during unpickling. Arbitrary objects will no longer be allowed to be loaded via this mode unless they are explicitly allowlisted by the user via `torch.serialization.add_safe_globals`. We recommend you start setting `weights_only=True` for any use case where you don't have full control of the loaded file. Please open an issue on GitHub for any issues related to this experimental feature.\n",
            "  self.model.model.load_state_dict(torch.load(best_model_path))\n"
          ]
        },
        {
          "name": "stdout",
          "output_type": "stream",
          "text": [
            "Best model loaded from /content/drive/My Drive/ML project 2/levin/trained_models/segformer_b3/external/BCEWithLogitsLoss/trained_model_epoch5.pt\n",
            "Deleted model: /content/drive/My Drive/ML project 2/levin/trained_models/segformer_b3/external/BCEWithLogitsLoss/trained_model_epoch1.pt\n",
            "Deleted model: /content/drive/My Drive/ML project 2/levin/trained_models/segformer_b3/external/BCEWithLogitsLoss/trained_model_epoch2.pt\n",
            "Deleted model: /content/drive/My Drive/ML project 2/levin/trained_models/segformer_b3/external/BCEWithLogitsLoss/trained_model_epoch3.pt\n",
            "Deleted model: /content/drive/My Drive/ML project 2/levin/trained_models/segformer_b3/external/BCEWithLogitsLoss/trained_model_epoch4.pt\n",
            "Deleted model: /content/drive/My Drive/ML project 2/levin/trained_models/segformer_b3/external/BCEWithLogitsLoss/trained_model_epoch6.pt\n",
            "Deleted model: /content/drive/My Drive/ML project 2/levin/trained_models/segformer_b3/external/BCEWithLogitsLoss/trained_model_epoch7.pt\n",
            "Deleted model: /content/drive/My Drive/ML project 2/levin/trained_models/segformer_b3/external/BCEWithLogitsLoss/trained_model_epoch8.pt\n",
            "Deleted model: /content/drive/My Drive/ML project 2/levin/trained_models/segformer_b3/external/BCEWithLogitsLoss/trained_model_epoch9.pt\n",
            "Deleted model: /content/drive/My Drive/ML project 2/levin/trained_models/segformer_b3/external/BCEWithLogitsLoss/trained_model_epoch10.pt\n",
            "Threshold 0.25, F1: 0.8703, Accuracy: 0.9436, Precision: 0.8908, Recall: 0.8507\n",
            "Threshold 0.5, F1: 0.8405, Accuracy: 0.9555, Precision: 0.8433, Recall: 0.8377\n",
            "Loss plot saved to /content/drive/My Drive/ML project 2/levin/trained_models/segformer_b3/external/BCEWithLogitsLoss/loss_over_epochs.png\n",
            "Everything complete. Results saved to /content/drive/My Drive/ML project 2/levin/trained_models/segformer_b3/external/BCEWithLogitsLoss.\n"
          ]
        }
      ],
      "source": [
        "# Train and evaluate the model with the best loss function on external data\n",
        "external_save_path = os.path.join(root_path, \"trained_models\", \"segformer_b3\", \"external\")\n",
        "print(\"Created external save path\")\n",
        "os.makedirs(external_save_path, exist_ok=True)\n",
        "model = SegFormer()\n",
        "train_eval = TrainAndEvaluate(model, external_train_loader, external_validation_loader, external_test_loader, best_loss_function, 10, external_save_path)\n",
        "f1, threshold, epoch = train_eval.run()\n",
        "if f1 > best_f1:\n",
        "    best_f1 = f1\n",
        "    best_threshold = threshold\n",
        "    best_epoch = epoch\n",
        "    best_data = \"external\""
      ]
    },
    {
      "cell_type": "code",
      "execution_count": null,
      "metadata": {
        "colab": {
          "background_save": true,
          "base_uri": "https://localhost:8080/",
          "height": 883,
          "referenced_widgets": [
            "0083aca84c5746c28de1f0deba64f536",
            "453426d62f4d4d5dacde400c6e99c7b6",
            "2850b6b034d84d758ba5556a5bb4955a",
            "4929501f77eb4887b1d2fd3b52d222eb",
            "c21bd9a8a4984b76a585dd91078962f6",
            "508ce15dd83146b790225a5e8bcf45e6",
            "54f36edce75f4351bddcc24a4f4ed5c7",
            "1a85048c9ddb4ff485fd1ebb31904255",
            "a605495db64c43ea94d9f2cd3fea7f21",
            "1aa4710a067b4873af1c68ae297a1b26",
            "caca5011e5054edd804ec60c06224e92",
            "259e5cb5cce44aa4b88eeeed5bdd3c2b",
            "280267582cf2478398053d7b766d8b53",
            "8c276f0d019d4c0d8e8c2641dce7926b",
            "68799aad48364f9481eedd0e08a7ac0d",
            "6898ce72529e4de59289ce49d9be06bb",
            "16533e140dec45498ba3e0f85142164f",
            "8a49bef7f03d4190b28a473e53b9dc02",
            "9fd4ea5862cb4f22bf2aeae6b5e2898c",
            "eea6c54468bd451d95c16a19502bf351",
            "435b741ca5514776b183179121776e45",
            "d56c6fd9e1034398b53d208ad945feab"
          ]
        },
        "id": "CRasmaFJyrl6",
        "outputId": "a74aff80-80f4-4423-fb27-63cc4ff645c8"
      },
      "outputs": [
        {
          "name": "stdout",
          "output_type": "stream",
          "text": [
            "Created chicago save path\n"
          ]
        },
        {
          "name": "stderr",
          "output_type": "stream",
          "text": [
            "/usr/local/lib/python3.10/dist-packages/huggingface_hub/utils/_auth.py:94: UserWarning: \n",
            "The secret `HF_TOKEN` does not exist in your Colab secrets.\n",
            "To authenticate with the Hugging Face Hub, create a token in your settings tab (https://huggingface.co/settings/tokens), set it as secret in your Google Colab and restart your session.\n",
            "You will be able to reuse this secret in all of your notebooks.\n",
            "Please note that authentication is recommended but still optional to access public models or datasets.\n",
            "  warnings.warn(\n"
          ]
        },
        {
          "data": {
            "application/vnd.jupyter.widget-view+json": {
              "model_id": "0083aca84c5746c28de1f0deba64f536",
              "version_major": 2,
              "version_minor": 0
            },
            "text/plain": [
              "config.json:   0%|          | 0.00/6.89k [00:00<?, ?B/s]"
            ]
          },
          "metadata": {},
          "output_type": "display_data"
        },
        {
          "data": {
            "application/vnd.jupyter.widget-view+json": {
              "model_id": "259e5cb5cce44aa4b88eeeed5bdd3c2b",
              "version_major": 2,
              "version_minor": 0
            },
            "text/plain": [
              "pytorch_model.bin:   0%|          | 0.00/190M [00:00<?, ?B/s]"
            ]
          },
          "metadata": {},
          "output_type": "display_data"
        },
        {
          "name": "stderr",
          "output_type": "stream",
          "text": [
            "Some weights of SegformerForSemanticSegmentation were not initialized from the model checkpoint at nvidia/segformer-b3-finetuned-ade-512-512 and are newly initialized because the shapes did not match:\n",
            "- decode_head.classifier.weight: found shape torch.Size([150, 768, 1, 1]) in the checkpoint and torch.Size([1, 768, 1, 1]) in the model instantiated\n",
            "- decode_head.classifier.bias: found shape torch.Size([150]) in the checkpoint and torch.Size([1]) in the model instantiated\n",
            "You should probably TRAIN this model on a down-stream task to be able to use it for predictions and inference.\n"
          ]
        },
        {
          "name": "stdout",
          "output_type": "stream",
          "text": [
            "Model saved to /content/drive/My Drive/ML project 2/levin/trained_models/segformer_b3/chicago/BCEWithLogitsLoss/trained_model_epoch1.pt\n",
            "Epoch 1/10, Training Loss: 0.2157, Validation Loss: 0.1634\n",
            "Model saved to /content/drive/My Drive/ML project 2/levin/trained_models/segformer_b3/chicago/BCEWithLogitsLoss/trained_model_epoch2.pt\n",
            "Epoch 2/10, Training Loss: 0.1437, Validation Loss: 0.1509\n",
            "Model saved to /content/drive/My Drive/ML project 2/levin/trained_models/segformer_b3/chicago/BCEWithLogitsLoss/trained_model_epoch3.pt\n",
            "Epoch 3/10, Training Loss: 0.1244, Validation Loss: 0.1385\n",
            "Model saved to /content/drive/My Drive/ML project 2/levin/trained_models/segformer_b3/chicago/BCEWithLogitsLoss/trained_model_epoch4.pt\n",
            "Epoch 4/10, Training Loss: 0.1096, Validation Loss: 0.1367\n",
            "Model saved to /content/drive/My Drive/ML project 2/levin/trained_models/segformer_b3/chicago/BCEWithLogitsLoss/trained_model_epoch5.pt\n",
            "Epoch 5/10, Training Loss: 0.0977, Validation Loss: 0.1341\n",
            "Model saved to /content/drive/My Drive/ML project 2/levin/trained_models/segformer_b3/chicago/BCEWithLogitsLoss/trained_model_epoch6.pt\n",
            "Epoch 6/10, Training Loss: 0.0871, Validation Loss: 0.1342\n",
            "Model saved to /content/drive/My Drive/ML project 2/levin/trained_models/segformer_b3/chicago/BCEWithLogitsLoss/trained_model_epoch7.pt\n",
            "Epoch 7/10, Training Loss: 0.0791, Validation Loss: 0.1365\n",
            "Model saved to /content/drive/My Drive/ML project 2/levin/trained_models/segformer_b3/chicago/BCEWithLogitsLoss/trained_model_epoch8.pt\n",
            "Epoch 8/10, Training Loss: 0.0735, Validation Loss: 0.1385\n",
            "Model saved to /content/drive/My Drive/ML project 2/levin/trained_models/segformer_b3/chicago/BCEWithLogitsLoss/trained_model_epoch9.pt\n",
            "Epoch 9/10, Training Loss: 0.0699, Validation Loss: 0.1435\n",
            "Model saved to /content/drive/My Drive/ML project 2/levin/trained_models/segformer_b3/chicago/BCEWithLogitsLoss/trained_model_epoch10.pt\n",
            "Epoch 10/10, Training Loss: 0.0633, Validation Loss: 0.1473\n",
            "Training finished\n",
            "Training complete\n",
            "Best epoch: 5\n"
          ]
        },
        {
          "name": "stderr",
          "output_type": "stream",
          "text": [
            "/content/drive/My Drive/ML project 2/levin/train_evaluate.py:186: FutureWarning: You are using `torch.load` with `weights_only=False` (the current default value), which uses the default pickle module implicitly. It is possible to construct malicious pickle data which will execute arbitrary code during unpickling (See https://github.com/pytorch/pytorch/blob/main/SECURITY.md#untrusted-models for more details). In a future release, the default value for `weights_only` will be flipped to `True`. This limits the functions that could be executed during unpickling. Arbitrary objects will no longer be allowed to be loaded via this mode unless they are explicitly allowlisted by the user via `torch.serialization.add_safe_globals`. We recommend you start setting `weights_only=True` for any use case where you don't have full control of the loaded file. Please open an issue on GitHub for any issues related to this experimental feature.\n",
            "  self.model.model.load_state_dict(torch.load(best_model_path))\n"
          ]
        },
        {
          "name": "stdout",
          "output_type": "stream",
          "text": [
            "Best model loaded from /content/drive/My Drive/ML project 2/levin/trained_models/segformer_b3/chicago/BCEWithLogitsLoss/trained_model_epoch5.pt\n",
            "Deleted model: /content/drive/My Drive/ML project 2/levin/trained_models/segformer_b3/chicago/BCEWithLogitsLoss/trained_model_epoch1.pt\n",
            "Deleted model: /content/drive/My Drive/ML project 2/levin/trained_models/segformer_b3/chicago/BCEWithLogitsLoss/trained_model_epoch2.pt\n",
            "Deleted model: /content/drive/My Drive/ML project 2/levin/trained_models/segformer_b3/chicago/BCEWithLogitsLoss/trained_model_epoch3.pt\n",
            "Deleted model: /content/drive/My Drive/ML project 2/levin/trained_models/segformer_b3/chicago/BCEWithLogitsLoss/trained_model_epoch4.pt\n",
            "Deleted model: /content/drive/My Drive/ML project 2/levin/trained_models/segformer_b3/chicago/BCEWithLogitsLoss/trained_model_epoch6.pt\n",
            "Deleted model: /content/drive/My Drive/ML project 2/levin/trained_models/segformer_b3/chicago/BCEWithLogitsLoss/trained_model_epoch7.pt\n",
            "Deleted model: /content/drive/My Drive/ML project 2/levin/trained_models/segformer_b3/chicago/BCEWithLogitsLoss/trained_model_epoch8.pt\n",
            "Deleted model: /content/drive/My Drive/ML project 2/levin/trained_models/segformer_b3/chicago/BCEWithLogitsLoss/trained_model_epoch9.pt\n",
            "Deleted model: /content/drive/My Drive/ML project 2/levin/trained_models/segformer_b3/chicago/BCEWithLogitsLoss/trained_model_epoch10.pt\n",
            "Threshold 0.25, F1: 0.8697, Accuracy: 0.9430, Precision: 0.8852, Recall: 0.8546\n",
            "Threshold 0.5, F1: 0.8396, Accuracy: 0.9547, Precision: 0.8332, Recall: 0.8460\n",
            "Loss plot saved to /content/drive/My Drive/ML project 2/levin/trained_models/segformer_b3/chicago/BCEWithLogitsLoss/loss_over_epochs.png\n",
            "Everything complete. Results saved to /content/drive/My Drive/ML project 2/levin/trained_models/segformer_b3/chicago/BCEWithLogitsLoss.\n"
          ]
        }
      ],
      "source": [
        "# Train and evaluate the model with the best loss function on chicago data\n",
        "chicago_save_path = os.path.join(root_path, \"trained_models\", \"segformer_b3\", \"chicago\")\n",
        "print(\"Created chicago save path\")\n",
        "os.makedirs(chicago_save_path, exist_ok=True)\n",
        "model = SegFormer()\n",
        "train_eval = TrainAndEvaluate(model, external_train_loader, external_validation_loader, external_test_loader, best_loss_function, 10, chicago_save_path)\n",
        "f1, threshold, epoch = train_eval.run()\n",
        "if f1 > best_f1:\n",
        "    best_f1 = f1\n",
        "    best_threshold = threshold\n",
        "    best_epoch = epoch\n",
        "    best_data = \"chicago\""
      ]
    },
    {
      "cell_type": "code",
      "execution_count": null,
      "metadata": {
        "id": "VTK1OuFXzO_F"
      },
      "outputs": [],
      "source": [
        "results = {\"best_criterion\": best_loss_function,\n",
        "           \"best_f1\": best_f1,\n",
        "           \"best_threshold\": best_threshold,\n",
        "           \"best_epoch\": best_epoch,\n",
        "           \"best_data\": best_data\n",
        "           }\n",
        "\n",
        "results_path = os.path.join(root_path, \"models\", \"segformer\", \"train_results.json\")\n",
        "with open(results_path, \"w\") as json_file:\n",
        "   json.dump(results, json_file, indent=4)\n",
        "\n",
        "print(f\"Best data: {best_data}, best_criterion: {best_loss_function} with f1: {best_f1}, best epoch: {best_epoch}, best_threshold: {best_threshold}\")\n",
        "print(\"Finished training, everything saved\")"
      ]
    }
  ],
  "metadata": {
    "accelerator": "GPU",
    "colab": {
      "gpuType": "L4",
      "machine_shape": "hm",
      "provenance": []
    },
    "kernelspec": {
      "display_name": "Python 3",
      "name": "python3"
    },
    "language_info": {
      "name": "python"
    },
    "widgets": {
      "application/vnd.jupyter.widget-state+json": {
        "0083aca84c5746c28de1f0deba64f536": {
          "model_module": "@jupyter-widgets/controls",
          "model_module_version": "1.5.0",
          "model_name": "HBoxModel",
          "state": {
            "_dom_classes": [],
            "_model_module": "@jupyter-widgets/controls",
            "_model_module_version": "1.5.0",
            "_model_name": "HBoxModel",
            "_view_count": null,
            "_view_module": "@jupyter-widgets/controls",
            "_view_module_version": "1.5.0",
            "_view_name": "HBoxView",
            "box_style": "",
            "children": [
              "IPY_MODEL_453426d62f4d4d5dacde400c6e99c7b6",
              "IPY_MODEL_2850b6b034d84d758ba5556a5bb4955a",
              "IPY_MODEL_4929501f77eb4887b1d2fd3b52d222eb"
            ],
            "layout": "IPY_MODEL_c21bd9a8a4984b76a585dd91078962f6"
          }
        },
        "16533e140dec45498ba3e0f85142164f": {
          "model_module": "@jupyter-widgets/base",
          "model_module_version": "1.2.0",
          "model_name": "LayoutModel",
          "state": {
            "_model_module": "@jupyter-widgets/base",
            "_model_module_version": "1.2.0",
            "_model_name": "LayoutModel",
            "_view_count": null,
            "_view_module": "@jupyter-widgets/base",
            "_view_module_version": "1.2.0",
            "_view_name": "LayoutView",
            "align_content": null,
            "align_items": null,
            "align_self": null,
            "border": null,
            "bottom": null,
            "display": null,
            "flex": null,
            "flex_flow": null,
            "grid_area": null,
            "grid_auto_columns": null,
            "grid_auto_flow": null,
            "grid_auto_rows": null,
            "grid_column": null,
            "grid_gap": null,
            "grid_row": null,
            "grid_template_areas": null,
            "grid_template_columns": null,
            "grid_template_rows": null,
            "height": null,
            "justify_content": null,
            "justify_items": null,
            "left": null,
            "margin": null,
            "max_height": null,
            "max_width": null,
            "min_height": null,
            "min_width": null,
            "object_fit": null,
            "object_position": null,
            "order": null,
            "overflow": null,
            "overflow_x": null,
            "overflow_y": null,
            "padding": null,
            "right": null,
            "top": null,
            "visibility": null,
            "width": null
          }
        },
        "1a85048c9ddb4ff485fd1ebb31904255": {
          "model_module": "@jupyter-widgets/base",
          "model_module_version": "1.2.0",
          "model_name": "LayoutModel",
          "state": {
            "_model_module": "@jupyter-widgets/base",
            "_model_module_version": "1.2.0",
            "_model_name": "LayoutModel",
            "_view_count": null,
            "_view_module": "@jupyter-widgets/base",
            "_view_module_version": "1.2.0",
            "_view_name": "LayoutView",
            "align_content": null,
            "align_items": null,
            "align_self": null,
            "border": null,
            "bottom": null,
            "display": null,
            "flex": null,
            "flex_flow": null,
            "grid_area": null,
            "grid_auto_columns": null,
            "grid_auto_flow": null,
            "grid_auto_rows": null,
            "grid_column": null,
            "grid_gap": null,
            "grid_row": null,
            "grid_template_areas": null,
            "grid_template_columns": null,
            "grid_template_rows": null,
            "height": null,
            "justify_content": null,
            "justify_items": null,
            "left": null,
            "margin": null,
            "max_height": null,
            "max_width": null,
            "min_height": null,
            "min_width": null,
            "object_fit": null,
            "object_position": null,
            "order": null,
            "overflow": null,
            "overflow_x": null,
            "overflow_y": null,
            "padding": null,
            "right": null,
            "top": null,
            "visibility": null,
            "width": null
          }
        },
        "1aa4710a067b4873af1c68ae297a1b26": {
          "model_module": "@jupyter-widgets/base",
          "model_module_version": "1.2.0",
          "model_name": "LayoutModel",
          "state": {
            "_model_module": "@jupyter-widgets/base",
            "_model_module_version": "1.2.0",
            "_model_name": "LayoutModel",
            "_view_count": null,
            "_view_module": "@jupyter-widgets/base",
            "_view_module_version": "1.2.0",
            "_view_name": "LayoutView",
            "align_content": null,
            "align_items": null,
            "align_self": null,
            "border": null,
            "bottom": null,
            "display": null,
            "flex": null,
            "flex_flow": null,
            "grid_area": null,
            "grid_auto_columns": null,
            "grid_auto_flow": null,
            "grid_auto_rows": null,
            "grid_column": null,
            "grid_gap": null,
            "grid_row": null,
            "grid_template_areas": null,
            "grid_template_columns": null,
            "grid_template_rows": null,
            "height": null,
            "justify_content": null,
            "justify_items": null,
            "left": null,
            "margin": null,
            "max_height": null,
            "max_width": null,
            "min_height": null,
            "min_width": null,
            "object_fit": null,
            "object_position": null,
            "order": null,
            "overflow": null,
            "overflow_x": null,
            "overflow_y": null,
            "padding": null,
            "right": null,
            "top": null,
            "visibility": null,
            "width": null
          }
        },
        "259e5cb5cce44aa4b88eeeed5bdd3c2b": {
          "model_module": "@jupyter-widgets/controls",
          "model_module_version": "1.5.0",
          "model_name": "HBoxModel",
          "state": {
            "_dom_classes": [],
            "_model_module": "@jupyter-widgets/controls",
            "_model_module_version": "1.5.0",
            "_model_name": "HBoxModel",
            "_view_count": null,
            "_view_module": "@jupyter-widgets/controls",
            "_view_module_version": "1.5.0",
            "_view_name": "HBoxView",
            "box_style": "",
            "children": [
              "IPY_MODEL_280267582cf2478398053d7b766d8b53",
              "IPY_MODEL_8c276f0d019d4c0d8e8c2641dce7926b",
              "IPY_MODEL_68799aad48364f9481eedd0e08a7ac0d"
            ],
            "layout": "IPY_MODEL_6898ce72529e4de59289ce49d9be06bb"
          }
        },
        "280267582cf2478398053d7b766d8b53": {
          "model_module": "@jupyter-widgets/controls",
          "model_module_version": "1.5.0",
          "model_name": "HTMLModel",
          "state": {
            "_dom_classes": [],
            "_model_module": "@jupyter-widgets/controls",
            "_model_module_version": "1.5.0",
            "_model_name": "HTMLModel",
            "_view_count": null,
            "_view_module": "@jupyter-widgets/controls",
            "_view_module_version": "1.5.0",
            "_view_name": "HTMLView",
            "description": "",
            "description_tooltip": null,
            "layout": "IPY_MODEL_16533e140dec45498ba3e0f85142164f",
            "placeholder": "​",
            "style": "IPY_MODEL_8a49bef7f03d4190b28a473e53b9dc02",
            "value": "pytorch_model.bin: 100%"
          }
        },
        "2850b6b034d84d758ba5556a5bb4955a": {
          "model_module": "@jupyter-widgets/controls",
          "model_module_version": "1.5.0",
          "model_name": "FloatProgressModel",
          "state": {
            "_dom_classes": [],
            "_model_module": "@jupyter-widgets/controls",
            "_model_module_version": "1.5.0",
            "_model_name": "FloatProgressModel",
            "_view_count": null,
            "_view_module": "@jupyter-widgets/controls",
            "_view_module_version": "1.5.0",
            "_view_name": "ProgressView",
            "bar_style": "success",
            "description": "",
            "description_tooltip": null,
            "layout": "IPY_MODEL_1a85048c9ddb4ff485fd1ebb31904255",
            "max": 6886,
            "min": 0,
            "orientation": "horizontal",
            "style": "IPY_MODEL_a605495db64c43ea94d9f2cd3fea7f21",
            "value": 6886
          }
        },
        "435b741ca5514776b183179121776e45": {
          "model_module": "@jupyter-widgets/base",
          "model_module_version": "1.2.0",
          "model_name": "LayoutModel",
          "state": {
            "_model_module": "@jupyter-widgets/base",
            "_model_module_version": "1.2.0",
            "_model_name": "LayoutModel",
            "_view_count": null,
            "_view_module": "@jupyter-widgets/base",
            "_view_module_version": "1.2.0",
            "_view_name": "LayoutView",
            "align_content": null,
            "align_items": null,
            "align_self": null,
            "border": null,
            "bottom": null,
            "display": null,
            "flex": null,
            "flex_flow": null,
            "grid_area": null,
            "grid_auto_columns": null,
            "grid_auto_flow": null,
            "grid_auto_rows": null,
            "grid_column": null,
            "grid_gap": null,
            "grid_row": null,
            "grid_template_areas": null,
            "grid_template_columns": null,
            "grid_template_rows": null,
            "height": null,
            "justify_content": null,
            "justify_items": null,
            "left": null,
            "margin": null,
            "max_height": null,
            "max_width": null,
            "min_height": null,
            "min_width": null,
            "object_fit": null,
            "object_position": null,
            "order": null,
            "overflow": null,
            "overflow_x": null,
            "overflow_y": null,
            "padding": null,
            "right": null,
            "top": null,
            "visibility": null,
            "width": null
          }
        },
        "453426d62f4d4d5dacde400c6e99c7b6": {
          "model_module": "@jupyter-widgets/controls",
          "model_module_version": "1.5.0",
          "model_name": "HTMLModel",
          "state": {
            "_dom_classes": [],
            "_model_module": "@jupyter-widgets/controls",
            "_model_module_version": "1.5.0",
            "_model_name": "HTMLModel",
            "_view_count": null,
            "_view_module": "@jupyter-widgets/controls",
            "_view_module_version": "1.5.0",
            "_view_name": "HTMLView",
            "description": "",
            "description_tooltip": null,
            "layout": "IPY_MODEL_508ce15dd83146b790225a5e8bcf45e6",
            "placeholder": "​",
            "style": "IPY_MODEL_54f36edce75f4351bddcc24a4f4ed5c7",
            "value": "config.json: 100%"
          }
        },
        "4929501f77eb4887b1d2fd3b52d222eb": {
          "model_module": "@jupyter-widgets/controls",
          "model_module_version": "1.5.0",
          "model_name": "HTMLModel",
          "state": {
            "_dom_classes": [],
            "_model_module": "@jupyter-widgets/controls",
            "_model_module_version": "1.5.0",
            "_model_name": "HTMLModel",
            "_view_count": null,
            "_view_module": "@jupyter-widgets/controls",
            "_view_module_version": "1.5.0",
            "_view_name": "HTMLView",
            "description": "",
            "description_tooltip": null,
            "layout": "IPY_MODEL_1aa4710a067b4873af1c68ae297a1b26",
            "placeholder": "​",
            "style": "IPY_MODEL_caca5011e5054edd804ec60c06224e92",
            "value": " 6.89k/6.89k [00:00&lt;00:00, 612kB/s]"
          }
        },
        "508ce15dd83146b790225a5e8bcf45e6": {
          "model_module": "@jupyter-widgets/base",
          "model_module_version": "1.2.0",
          "model_name": "LayoutModel",
          "state": {
            "_model_module": "@jupyter-widgets/base",
            "_model_module_version": "1.2.0",
            "_model_name": "LayoutModel",
            "_view_count": null,
            "_view_module": "@jupyter-widgets/base",
            "_view_module_version": "1.2.0",
            "_view_name": "LayoutView",
            "align_content": null,
            "align_items": null,
            "align_self": null,
            "border": null,
            "bottom": null,
            "display": null,
            "flex": null,
            "flex_flow": null,
            "grid_area": null,
            "grid_auto_columns": null,
            "grid_auto_flow": null,
            "grid_auto_rows": null,
            "grid_column": null,
            "grid_gap": null,
            "grid_row": null,
            "grid_template_areas": null,
            "grid_template_columns": null,
            "grid_template_rows": null,
            "height": null,
            "justify_content": null,
            "justify_items": null,
            "left": null,
            "margin": null,
            "max_height": null,
            "max_width": null,
            "min_height": null,
            "min_width": null,
            "object_fit": null,
            "object_position": null,
            "order": null,
            "overflow": null,
            "overflow_x": null,
            "overflow_y": null,
            "padding": null,
            "right": null,
            "top": null,
            "visibility": null,
            "width": null
          }
        },
        "54f36edce75f4351bddcc24a4f4ed5c7": {
          "model_module": "@jupyter-widgets/controls",
          "model_module_version": "1.5.0",
          "model_name": "DescriptionStyleModel",
          "state": {
            "_model_module": "@jupyter-widgets/controls",
            "_model_module_version": "1.5.0",
            "_model_name": "DescriptionStyleModel",
            "_view_count": null,
            "_view_module": "@jupyter-widgets/base",
            "_view_module_version": "1.2.0",
            "_view_name": "StyleView",
            "description_width": ""
          }
        },
        "68799aad48364f9481eedd0e08a7ac0d": {
          "model_module": "@jupyter-widgets/controls",
          "model_module_version": "1.5.0",
          "model_name": "HTMLModel",
          "state": {
            "_dom_classes": [],
            "_model_module": "@jupyter-widgets/controls",
            "_model_module_version": "1.5.0",
            "_model_name": "HTMLModel",
            "_view_count": null,
            "_view_module": "@jupyter-widgets/controls",
            "_view_module_version": "1.5.0",
            "_view_name": "HTMLView",
            "description": "",
            "description_tooltip": null,
            "layout": "IPY_MODEL_435b741ca5514776b183179121776e45",
            "placeholder": "​",
            "style": "IPY_MODEL_d56c6fd9e1034398b53d208ad945feab",
            "value": " 190M/190M [00:01&lt;00:00, 223MB/s]"
          }
        },
        "6898ce72529e4de59289ce49d9be06bb": {
          "model_module": "@jupyter-widgets/base",
          "model_module_version": "1.2.0",
          "model_name": "LayoutModel",
          "state": {
            "_model_module": "@jupyter-widgets/base",
            "_model_module_version": "1.2.0",
            "_model_name": "LayoutModel",
            "_view_count": null,
            "_view_module": "@jupyter-widgets/base",
            "_view_module_version": "1.2.0",
            "_view_name": "LayoutView",
            "align_content": null,
            "align_items": null,
            "align_self": null,
            "border": null,
            "bottom": null,
            "display": null,
            "flex": null,
            "flex_flow": null,
            "grid_area": null,
            "grid_auto_columns": null,
            "grid_auto_flow": null,
            "grid_auto_rows": null,
            "grid_column": null,
            "grid_gap": null,
            "grid_row": null,
            "grid_template_areas": null,
            "grid_template_columns": null,
            "grid_template_rows": null,
            "height": null,
            "justify_content": null,
            "justify_items": null,
            "left": null,
            "margin": null,
            "max_height": null,
            "max_width": null,
            "min_height": null,
            "min_width": null,
            "object_fit": null,
            "object_position": null,
            "order": null,
            "overflow": null,
            "overflow_x": null,
            "overflow_y": null,
            "padding": null,
            "right": null,
            "top": null,
            "visibility": null,
            "width": null
          }
        },
        "8a49bef7f03d4190b28a473e53b9dc02": {
          "model_module": "@jupyter-widgets/controls",
          "model_module_version": "1.5.0",
          "model_name": "DescriptionStyleModel",
          "state": {
            "_model_module": "@jupyter-widgets/controls",
            "_model_module_version": "1.5.0",
            "_model_name": "DescriptionStyleModel",
            "_view_count": null,
            "_view_module": "@jupyter-widgets/base",
            "_view_module_version": "1.2.0",
            "_view_name": "StyleView",
            "description_width": ""
          }
        },
        "8c276f0d019d4c0d8e8c2641dce7926b": {
          "model_module": "@jupyter-widgets/controls",
          "model_module_version": "1.5.0",
          "model_name": "FloatProgressModel",
          "state": {
            "_dom_classes": [],
            "_model_module": "@jupyter-widgets/controls",
            "_model_module_version": "1.5.0",
            "_model_name": "FloatProgressModel",
            "_view_count": null,
            "_view_module": "@jupyter-widgets/controls",
            "_view_module_version": "1.5.0",
            "_view_name": "ProgressView",
            "bar_style": "success",
            "description": "",
            "description_tooltip": null,
            "layout": "IPY_MODEL_9fd4ea5862cb4f22bf2aeae6b5e2898c",
            "max": 189607929,
            "min": 0,
            "orientation": "horizontal",
            "style": "IPY_MODEL_eea6c54468bd451d95c16a19502bf351",
            "value": 189607929
          }
        },
        "9fd4ea5862cb4f22bf2aeae6b5e2898c": {
          "model_module": "@jupyter-widgets/base",
          "model_module_version": "1.2.0",
          "model_name": "LayoutModel",
          "state": {
            "_model_module": "@jupyter-widgets/base",
            "_model_module_version": "1.2.0",
            "_model_name": "LayoutModel",
            "_view_count": null,
            "_view_module": "@jupyter-widgets/base",
            "_view_module_version": "1.2.0",
            "_view_name": "LayoutView",
            "align_content": null,
            "align_items": null,
            "align_self": null,
            "border": null,
            "bottom": null,
            "display": null,
            "flex": null,
            "flex_flow": null,
            "grid_area": null,
            "grid_auto_columns": null,
            "grid_auto_flow": null,
            "grid_auto_rows": null,
            "grid_column": null,
            "grid_gap": null,
            "grid_row": null,
            "grid_template_areas": null,
            "grid_template_columns": null,
            "grid_template_rows": null,
            "height": null,
            "justify_content": null,
            "justify_items": null,
            "left": null,
            "margin": null,
            "max_height": null,
            "max_width": null,
            "min_height": null,
            "min_width": null,
            "object_fit": null,
            "object_position": null,
            "order": null,
            "overflow": null,
            "overflow_x": null,
            "overflow_y": null,
            "padding": null,
            "right": null,
            "top": null,
            "visibility": null,
            "width": null
          }
        },
        "a605495db64c43ea94d9f2cd3fea7f21": {
          "model_module": "@jupyter-widgets/controls",
          "model_module_version": "1.5.0",
          "model_name": "ProgressStyleModel",
          "state": {
            "_model_module": "@jupyter-widgets/controls",
            "_model_module_version": "1.5.0",
            "_model_name": "ProgressStyleModel",
            "_view_count": null,
            "_view_module": "@jupyter-widgets/base",
            "_view_module_version": "1.2.0",
            "_view_name": "StyleView",
            "bar_color": null,
            "description_width": ""
          }
        },
        "c21bd9a8a4984b76a585dd91078962f6": {
          "model_module": "@jupyter-widgets/base",
          "model_module_version": "1.2.0",
          "model_name": "LayoutModel",
          "state": {
            "_model_module": "@jupyter-widgets/base",
            "_model_module_version": "1.2.0",
            "_model_name": "LayoutModel",
            "_view_count": null,
            "_view_module": "@jupyter-widgets/base",
            "_view_module_version": "1.2.0",
            "_view_name": "LayoutView",
            "align_content": null,
            "align_items": null,
            "align_self": null,
            "border": null,
            "bottom": null,
            "display": null,
            "flex": null,
            "flex_flow": null,
            "grid_area": null,
            "grid_auto_columns": null,
            "grid_auto_flow": null,
            "grid_auto_rows": null,
            "grid_column": null,
            "grid_gap": null,
            "grid_row": null,
            "grid_template_areas": null,
            "grid_template_columns": null,
            "grid_template_rows": null,
            "height": null,
            "justify_content": null,
            "justify_items": null,
            "left": null,
            "margin": null,
            "max_height": null,
            "max_width": null,
            "min_height": null,
            "min_width": null,
            "object_fit": null,
            "object_position": null,
            "order": null,
            "overflow": null,
            "overflow_x": null,
            "overflow_y": null,
            "padding": null,
            "right": null,
            "top": null,
            "visibility": null,
            "width": null
          }
        },
        "caca5011e5054edd804ec60c06224e92": {
          "model_module": "@jupyter-widgets/controls",
          "model_module_version": "1.5.0",
          "model_name": "DescriptionStyleModel",
          "state": {
            "_model_module": "@jupyter-widgets/controls",
            "_model_module_version": "1.5.0",
            "_model_name": "DescriptionStyleModel",
            "_view_count": null,
            "_view_module": "@jupyter-widgets/base",
            "_view_module_version": "1.2.0",
            "_view_name": "StyleView",
            "description_width": ""
          }
        },
        "d56c6fd9e1034398b53d208ad945feab": {
          "model_module": "@jupyter-widgets/controls",
          "model_module_version": "1.5.0",
          "model_name": "DescriptionStyleModel",
          "state": {
            "_model_module": "@jupyter-widgets/controls",
            "_model_module_version": "1.5.0",
            "_model_name": "DescriptionStyleModel",
            "_view_count": null,
            "_view_module": "@jupyter-widgets/base",
            "_view_module_version": "1.2.0",
            "_view_name": "StyleView",
            "description_width": ""
          }
        },
        "eea6c54468bd451d95c16a19502bf351": {
          "model_module": "@jupyter-widgets/controls",
          "model_module_version": "1.5.0",
          "model_name": "ProgressStyleModel",
          "state": {
            "_model_module": "@jupyter-widgets/controls",
            "_model_module_version": "1.5.0",
            "_model_name": "ProgressStyleModel",
            "_view_count": null,
            "_view_module": "@jupyter-widgets/base",
            "_view_module_version": "1.2.0",
            "_view_name": "StyleView",
            "bar_color": null,
            "description_width": ""
          }
        }
      }
    }
  },
  "nbformat": 4,
  "nbformat_minor": 0
}